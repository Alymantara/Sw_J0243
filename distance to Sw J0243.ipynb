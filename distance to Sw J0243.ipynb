{
 "cells": [
  {
   "cell_type": "code",
   "execution_count": 1,
   "metadata": {
    "collapsed": true
   },
   "outputs": [],
   "source": [
    "import numpy as np\n",
    "from astropy.io import fits,ascii\n",
    "from astropy import units as u\n",
    "import pandas as pd\n",
    "from astropy.coordinates import SkyCoord\n",
    "import matplotlib.pyplot as plt\n",
    "from scipy.stats import mode\n",
    "import emcee\n",
    "import corner\n",
    "from sklearn.neighbors import KernelDensity"
   ]
  },
  {
   "cell_type": "markdown",
   "metadata": {},
   "source": [
    "Coordinates of Swift J0243+6124 from VLA radio detection (van den Eijnden+ 2017, ATel....)"
   ]
  },
  {
   "cell_type": "code",
   "execution_count": 3,
   "metadata": {
    "collapsed": true
   },
   "outputs": [],
   "source": [
    "c = SkyCoord('02 43 40.4373 +61 26 03.713', unit=(u.hourangle, u.deg))"
   ]
  },
  {
   "cell_type": "code",
   "execution_count": null,
   "metadata": {
    "collapsed": true
   },
   "outputs": [],
   "source": [
    "#Search for the source in a 10 arcsec radius\n",
    "ga = cone_search(c.ra.deg, c.dec.deg, 10/3600.,\n",
    "                 table='gaiadr2.gaia_source')"
   ]
  },
  {
   "cell_type": "markdown",
   "metadata": {},
   "source": [
    "Setting up the likelihood model, as suggested in Lindegren+2018\n",
    "\n",
    "$\\ln[P(\\bar{\\omega}|r,\\sigma_{\\omega})] = \\frac{1}{2\\sigma_{\\omega}^2}(\\bar{\\omega} - \\bar{\\omega}_{zp} - \\frac{1}{r})^2 - \\ln(\\sqrt{2\\pi}\\sigma_{\\omega})$"
   ]
  },
  {
   "cell_type": "code",
   "execution_count": 59,
   "metadata": {
    "collapsed": true
   },
   "outputs": [],
   "source": [
    "def lnlike(theta, y, yerr):\n",
    "    distance = theta\n",
    "    model = 1. / distance\n",
    "    w_zp = -0.029 # zero point, Lindegren+2018\n",
    "    inv_sigma2 = 1.0/(yerr**2)\n",
    "    return -0.5*(np.sum((y-w_zp-model)**2*inv_sigma2 \\\n",
    "            - np.log(np.sqrt(2*np.pi)*yerr)))"
   ]
  },
  {
   "cell_type": "markdown",
   "metadata": {},
   "source": [
    "We use the exponential volume prior, from Bailer-Jones 2015\n",
    "\n",
    "$P(r)=\\frac{1}{2L^3}r^2e^{-r/L}$, for $r>0$\n",
    "\n",
    "where L=1.257 kpc."
   ]
  },
  {
   "cell_type": "code",
   "execution_count": 60,
   "metadata": {
    "collapsed": true
   },
   "outputs": [],
   "source": [
    "def lnprior(theta):\n",
    "    distance = theta\n",
    "    L = 1.257 #kpc\n",
    "    if  distance > 0:\n",
    "        prior = 1./(2 * L**3) * distance**2 * np.exp(-distance/L)\n",
    "        return np.log(prior)\n",
    "    return -np.inf "
   ]
  },
  {
   "cell_type": "markdown",
   "metadata": {},
   "source": [
    "Set-up the full unnormalised posterior distribution"
   ]
  },
  {
   "cell_type": "code",
   "execution_count": 61,
   "metadata": {
    "collapsed": true
   },
   "outputs": [],
   "source": [
    "def lnprob(theta, y, yerr):\n",
    "    lp = lnprior(theta)\n",
    "    if not np.isfinite(lp):\n",
    "        return -np.inf\n",
    "    return lp + lnlike(theta, y, yerr)"
   ]
  },
  {
   "cell_type": "markdown",
   "metadata": {},
   "source": [
    "The function that performs the sampling of the posterior \n",
    "distribution with EMCEE (Foreman-Mackay+ 2013) http://adsabs.harvard.edu/abs/2013PASP..125..306F"
   ]
  },
  {
   "cell_type": "code",
   "execution_count": 62,
   "metadata": {
    "collapsed": true
   },
   "outputs": [],
   "source": [
    "def gaia_errors(par,par_error,samp_out=True, burn_in=500, num_chains=2000):\n",
    "    ndim, nwalkers = 1, 60\n",
    "    pos = [1./par + 1e-2*np.random.randn(ndim) for i in range(nwalkers)]\n",
    "\n",
    "    sampler = emcee.EnsembleSampler(nwalkers, ndim, lnprob, args=(par,par_error),threads=1)\n",
    "    sampler.run_mcmc(pos, num_chains)\n",
    "    samples_exp = sampler.chain[:, burn_in:, :].reshape((-1, ndim))\n",
    "\n",
    "    q05 = corner.quantile(samples_exp,.05)\n",
    "    q50 = corner.quantile(samples_exp,.50)\n",
    "    q95 = corner.quantile(samples_exp,.95)\n",
    "    if samp_out:\n",
    "        return q05[0], q50[0], q95[0],samples_exp\n",
    "    else:\n",
    "        return q05[0], q50[0], q95[0]"
   ]
  },
  {
   "cell_type": "code",
   "execution_count": 63,
   "metadata": {
    "scrolled": true
   },
   "outputs": [
    {
     "name": "stdout",
     "output_type": "stream",
     "text": [
      "sig/parallax=0.317\n",
      "\n",
      "d_naive=10.504 ± 3.332 kpc\n"
     ]
    }
   ],
   "source": [
    "parallax, error = 0.0952,0.0302\n",
    "frac = error/parallax\n",
    "\n",
    "print(\"sig/parallax={:.3f}\".format(error/parallax))\n",
    "#print(\"SNR={:.3f}\".format((parallax+0.029)/error))\n",
    "print(\"\")\n",
    "print(\"d_naive={:.3f} ± {:.3f} kpc\".format(1/parallax,error/parallax**2))\n",
    "\n"
   ]
  },
  {
   "cell_type": "markdown",
   "metadata": {},
   "source": [
    "We calculate the 5, 50 and 95 percentile"
   ]
  },
  {
   "cell_type": "code",
   "execution_count": 64,
   "metadata": {},
   "outputs": [],
   "source": [
    "q05,q50,q95,samples_exp = gaia_errors(parallax, error,\n",
    "                          burn_in=500, num_chains=4000)"
   ]
  },
  {
   "cell_type": "code",
   "execution_count": 65,
   "metadata": {},
   "outputs": [
    {
     "name": "stdout",
     "output_type": "stream",
     "text": [
      " 5 percentile = 5.49\n",
      " 50 percentile = 7.22\n",
      " 95 percentile = 10.16\n"
     ]
    }
   ],
   "source": [
    "print(\" 5 percentile = {:.2f}\\n \\\n",
    "50 percentile = {:.2f}\\n \\\n",
    "95 percentile = {:.2f}\".format(q05,q50,q95))"
   ]
  },
  {
   "cell_type": "code",
   "execution_count": 66,
   "metadata": {},
   "outputs": [
    {
     "name": "stdout",
     "output_type": "stream",
     "text": [
      "d=7.22 + 2.94 - 1.73 kpc\n",
      "Distance lower limit 1%=4.98 kpc\n"
     ]
    }
   ],
   "source": [
    "print(\"d={:.2f} + {:.2f} - {:.2f} kpc\".format(q50,q95-q50,q50-q05))\n",
    "q_01 = corner.quantile(samples_exp,1-.99)\n",
    "print(\"Distance lower limit 1%={:.2f} kpc\".format(q_01[0]))"
   ]
  },
  {
   "cell_type": "code",
   "execution_count": 67,
   "metadata": {},
   "outputs": [
    {
     "data": {
      "text/plain": [
       "<matplotlib.text.Text at 0x11971fe10>"
      ]
     },
     "execution_count": 67,
     "metadata": {},
     "output_type": "execute_result"
    },
    {
     "data": {
      "image/png": "[encoded data removed]",
      "text/plain": [
       "<matplotlib.figure.Figure at 0x1184b1ac8>"
      ]
     },
     "metadata": {},
     "output_type": "display_data"
    }
   ],
   "source": [
    "fig = plt.figure(figsize=(14,10))\n",
    "ax = fig.add_subplot(111)\n",
    "X_plot = np.linspace(0,25.,10000)[:, np.newaxis]\n",
    "a = plt.hist(samples_exp,bins=50,color='green',lw=3,histtype='step')\n",
    "\n",
    "plt.axvline(x=corner.quantile(samples_exp,.05),ls='--',color='green',alpha=0.3,lw=2.5)\n",
    "plt.axvline(x=corner.quantile(samples_exp,.5),ls='-',color='green',alpha=0.3,lw=2.5)\n",
    "plt.axvline(x=corner.quantile(samples_exp,.95),ls='--',color='green',alpha=0.3,lw=2.5)\n",
    "\n",
    "ax.set_yticklabels([])\n",
    "ax.set_yticks([])\n",
    "plt.xlabel(\"Distance / kpc\")\n",
    "plt.ylabel(\"PDF\")"
   ]
  },
  {
   "cell_type": "markdown",
   "metadata": {},
   "source": [
    "Same thing but for a unifrom prior with a $r_{lim}=50$ kpc"
   ]
  },
  {
   "cell_type": "code",
   "execution_count": 54,
   "metadata": {
    "collapsed": true
   },
   "outputs": [],
   "source": [
    "def lnlike(theta, y, yerr):\n",
    "    distance = theta\n",
    "    model = 1. / distance\n",
    "    inv_sigma2 = 1.0/(yerr**2)\n",
    "    return -0.5*(np.sum((y-model)**2*inv_sigma2 - np.log(inv_sigma2)))\n",
    "\n",
    "def lnprob(theta, y, yerr):\n",
    "    lp = lnprior(theta)\n",
    "    if not np.isfinite(lp):\n",
    "        return -np.inf\n",
    "    return lp + lnlike(theta, y, yerr)\n",
    "\n",
    "def lnprior(theta):\n",
    "    distance = theta\n",
    "    #r_lim=100 kpc\n",
    "    if  0 < distance <50:\n",
    "        prior = 1./50.\n",
    "        return prior\n",
    "    return -np.inf \n",
    "\n",
    "def gaia_errors(par,par_error,samp_out=True,num_chains=2000,burn_in=500):\n",
    "    ndim, nwalkers = 1, 60\n",
    "    pos = [1./par + 1e-2*np.random.randn(ndim) for i in range(nwalkers)]\n",
    "\n",
    "    sampler = emcee.EnsembleSampler(nwalkers, ndim, lnprob, args=(par,par_error),threads=1)\n",
    "    sampler.run_mcmc(pos, num_chains)\n",
    "    samples_exp = sampler.chain[:, burn_in:, :].reshape((-1, ndim))\n",
    "    \n",
    "\n",
    "    q05 = corner.quantile(samples_exp,.05)\n",
    "    q50 = corner.quantile(samples_exp,.50)\n",
    "    q95 = corner.quantile(samples_exp,.95)\n",
    "    if samp_out:\n",
    "        return q05[0], q50[0], q95[0],samples_exp\n",
    "    \n",
    "    else:\n",
    "        return q05[0], q50[0], q95[0]"
   ]
  },
  {
   "cell_type": "code",
   "execution_count": 55,
   "metadata": {},
   "outputs": [],
   "source": [
    "q05,q50,q95,samples_uni = gaia_errors(parallax, error,\n",
    "                          burn_in=500, num_chains=4000)"
   ]
  },
  {
   "cell_type": "code",
   "execution_count": 56,
   "metadata": {},
   "outputs": [
    {
     "name": "stdout",
     "output_type": "stream",
     "text": [
      " 5 percentile = 7.98\n",
      " 50 percentile = 14.18\n",
      " 95 percentile = 38.07\n"
     ]
    }
   ],
   "source": [
    "print(\" 5 percentile = {:.2f}\\n \\\n",
    "50 percentile = {:.2f}\\n \\\n",
    "95 percentile = {:.2f}\".format(q05,q50,q95))"
   ]
  },
  {
   "cell_type": "code",
   "execution_count": 57,
   "metadata": {},
   "outputs": [
    {
     "name": "stdout",
     "output_type": "stream",
     "text": [
      "d=14.18 + 23.89 - 6.20 kpc\n",
      "Distance lower limit 1%=6.78 kpc\n"
     ]
    }
   ],
   "source": [
    "print(\"d={:.2f} + {:.2f} - {:.2f} kpc\".format(q50,q95-q50,q50-q05))\n",
    "q_01 = corner.quantile(samples_uni,1-.99)\n",
    "print(\"Distance lower limit 1%={:.2f} kpc\".format(q_01[0]))"
   ]
  },
  {
   "cell_type": "code",
   "execution_count": 58,
   "metadata": {},
   "outputs": [
    {
     "data": {
      "image/png": "[encoded data removed]",
      "text/plain": [
       "<matplotlib.figure.Figure at 0x117768748>"
      ]
     },
     "metadata": {},
     "output_type": "display_data"
    }
   ],
   "source": [
    "fig = plt.figure(figsize=(14,10))\n",
    "ax = fig.add_subplot(111)\n",
    "plt.title('GAIA Distance to Swift J024+6124')\n",
    "a = plt.hist(samples_uni,bins=np.linspace(0,30,100),color='k',lw=4,histtype='step',\n",
    "            label=r'Uniform Prior, $r_{lim}$=100 kpc')\n",
    "\n",
    "a = plt.hist(samples_exp,bins=50,color='orange',lw=4,histtype='step',\n",
    "             label='Exponential Prior, L=1.35 kpc')\n",
    "\n",
    "plt.axvline(x=corner.quantile(samples_exp,.5),ls='-',\n",
    "            color='orange',alpha=0.8,lw=2.5)\n",
    "\n",
    "plt.axvline(x=corner.quantile(samples_exp,.05),ls='--',\n",
    "            color='orange',alpha=0.3,lw=2.5)\n",
    "plt.axvline(x=corner.quantile(samples_exp,.95),ls='--',\n",
    "            color='orange',alpha=0.3,lw=2.5)\n",
    "ax.set_yticklabels([])\n",
    "plt.xlabel('Distance / kpc')\n",
    "plt.ylabel('PDF')\n",
    "ax.set_yticklabels([])\n",
    "ax.set_yticks([])\n",
    "plt.xlim(0,20.000)\n",
    "lg = plt.legend(fontsize=22,loc=1)\n",
    "#plt.savefig(\"gaia_distance.pdf\",dpi=300)"
   ]
  }
 ],
 "metadata": {
  "kernelspec": {
   "display_name": "Python 3",
   "language": "python",
   "name": "python3"
  },
  "language_info": {
   "codemirror_mode": {
    "name": "ipython",
    "version": 3
   },
   "file_extension": ".py",
   "mimetype": "text/x-python",
   "name": "python",
   "nbconvert_exporter": "python",
   "pygments_lexer": "ipython3",
   "version": "3.6.1"
  }
 },
 "nbformat": 4,
 "nbformat_minor": 2
}
